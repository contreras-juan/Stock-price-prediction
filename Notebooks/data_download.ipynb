{
 "cells": [
  {
   "cell_type": "code",
   "execution_count": 1,
   "id": "39840b97-8d93-4b24-a975-8a9ced343776",
   "metadata": {
    "id": "39840b97-8d93-4b24-a975-8a9ced343776"
   },
   "outputs": [],
   "source": [
    "import pandas as pd\n",
    "import yfinance as yf\n",
    "import datapackage\n",
    "import warnings\n",
    "\n",
    "warnings.filterwarnings(\"ignore\")"
   ]
  },
  {
   "cell_type": "code",
   "execution_count": 2,
   "id": "376083c2-9c56-48b1-a784-99e690eae939",
   "metadata": {
    "id": "376083c2-9c56-48b1-a784-99e690eae939"
   },
   "outputs": [],
   "source": [
    "data_url = 'https://datahub.io/core/s-and-p-500-companies/datapackage.json'\n",
    "\n",
    "# to load Data Package into storage\n",
    "package = datapackage.Package(data_url)\n",
    "\n",
    "# to load only tabular data\n",
    "resources = package.resources\n",
    "for resource in resources:\n",
    "    if resource.tabular:\n",
    "        syp500 = pd.read_csv(resource.descriptor['path'])"
   ]
  },
  {
   "cell_type": "code",
   "execution_count": 3,
   "id": "e210180b-4c0a-4d86-add6-321b21f290bb",
   "metadata": {
    "colab": {
     "base_uri": "https://localhost:8080/"
    },
    "id": "e210180b-4c0a-4d86-add6-321b21f290bb",
    "outputId": "7af87013-b37e-4f70-87d0-69fda43f1c10"
   },
   "outputs": [
    {
     "name": "stdout",
     "output_type": "stream",
     "text": [
      "Tickers of S&P 500: 505\n"
     ]
    }
   ],
   "source": [
    "print(\"Tickers of S&P 500:\", syp500.shape[0])"
   ]
  },
  {
   "cell_type": "code",
   "execution_count": 4,
   "id": "RHk4pO90HNs1",
   "metadata": {
    "id": "RHk4pO90HNs1"
   },
   "outputs": [],
   "source": [
    "syp500.to_csv(\"../Data/S&P.csv\", sep=\";\", index=False)"
   ]
  },
  {
   "cell_type": "code",
   "execution_count": 5,
   "id": "30801223-a4b2-4fe5-a690-245326083721",
   "metadata": {
    "colab": {
     "base_uri": "https://localhost:8080/"
    },
    "id": "30801223-a4b2-4fe5-a690-245326083721",
    "outputId": "abacaa49-de3c-44f6-b4e8-e83af20d42e7"
   },
   "outputs": [
    {
     "name": "stdout",
     "output_type": "stream",
     "text": [
      "[*********************100%***********************]  505 of 505 completed\n",
      "\n",
      "18 Failed downloads:\n",
      "- BLL: No timezone found, symbol may be delisted\n",
      "- CERN: No timezone found, symbol may be delisted\n",
      "- KSU: No timezone found, symbol may be delisted\n",
      "- VIAC: No timezone found, symbol may be delisted\n",
      "- BRK.B: No timezone found, symbol may be delisted\n",
      "- INFO: No timezone found, symbol may be delisted\n",
      "- WLTW: No timezone found, symbol may be delisted\n",
      "- NLSN: No timezone found, symbol may be delisted\n",
      "- FB: No timezone found, symbol may be delisted\n",
      "- PBCT: No timezone found, symbol may be delisted\n",
      "- ANTM: No timezone found, symbol may be delisted\n",
      "- DISCA: No timezone found, symbol may be delisted\n",
      "- DISCK: No timezone found, symbol may be delisted\n",
      "- NLOK: No timezone found, symbol may be delisted\n",
      "- BF.B: 1d data not available for startTime=-2208994789 and endTime=1674592069. Only 100 years worth of day granularity data are allowed to be fetched per request.\n",
      "- DRE: No timezone found, symbol may be delisted\n",
      "- XLNX: No timezone found, symbol may be delisted\n",
      "- CTXS: No timezone found, symbol may be delisted\n"
     ]
    }
   ],
   "source": [
    "symbols = list(syp500[\"Symbol\"].unique())\n",
    "\n",
    "tickers = symbols[0]\n",
    "\n",
    "for k in symbols:\n",
    "    tickers = tickers + \" \" + k\n",
    "    \n",
    "df = yf.download(\n",
    "    tickers = tickers,\n",
    "    period=\"max\",\n",
    "    # start=\"2010-01-01\", \n",
    "    # end=\"2022-03-28\",\n",
    "    interval=\"1d\",\n",
    "    group_by = 'ticker'\n",
    ")\n",
    "\n",
    "# Close\n",
    "close = df.iloc[:, df.columns.get_level_values(1)=='Close']\n",
    "\n",
    "col_names = []\n",
    "\n",
    "for k in close.columns:\n",
    "    col_names.append(k[0])\n",
    "\n",
    "close.columns = col_names\n",
    "\n",
    "close.drop([\"VIAC\", \"KSU\", \"BRK.B\", \"XLNX\", \"BF.B\", \"WLTW\", \"INFO\"], axis=1, inplace=True)\n",
    "\n",
    "close.to_csv(\"../Data/prices.csv\", sep=\";\")\n",
    "\n",
    "# Volume\n",
    "volume = df.iloc[:, df.columns.get_level_values(1)=='Volume']\n",
    "\n",
    "col_names = []\n",
    "\n",
    "for k in volume.columns:\n",
    "    col_names.append(k[0])\n",
    "\n",
    "volume.columns = col_names\n",
    "\n",
    "volume.drop([\"VIAC\", \"KSU\", \"BRK.B\", \"XLNX\", \"BF.B\", \"WLTW\", \"INFO\"], axis=1, inplace=True)\n",
    "\n",
    "volume.to_csv(\"../Data/volumes.csv\", sep=\";\")"
   ]
  }
 ],
 "metadata": {
  "colab": {
   "provenance": []
  },
  "kernelspec": {
   "display_name": "Python 3 (ipykernel)",
   "language": "python",
   "name": "python3"
  },
  "language_info": {
   "codemirror_mode": {
    "name": "ipython",
    "version": 3
   },
   "file_extension": ".py",
   "mimetype": "text/x-python",
   "name": "python",
   "nbconvert_exporter": "python",
   "pygments_lexer": "ipython3",
   "version": "3.10.8"
  }
 },
 "nbformat": 4,
 "nbformat_minor": 5
}
